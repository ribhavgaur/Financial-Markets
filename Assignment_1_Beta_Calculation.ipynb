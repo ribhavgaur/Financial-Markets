{
 "cells": [
  {
   "cell_type": "code",
   "execution_count": null,
   "id": "d65d2b0f",
   "metadata": {},
   "outputs": [],
   "source": [
    "import os\n",
    "import numpy as np\n",
    "import matplotlib.pyplot as plt\n",
    "import pandas as pd\n",
    "import scipy\n",
    "import statsmodels.formula.api as sm"
   ]
  },
  {
   "cell_type": "markdown",
   "id": "b058ce61",
   "metadata": {},
   "source": [
    "## Calculation of Alpha and Beta for CAPM"
   ]
  },
  {
   "cell_type": "code",
   "execution_count": 100,
   "id": "f14ce8db",
   "metadata": {},
   "outputs": [],
   "source": [
    "def getdf(path,ticker):\n",
    "    df = pd.read_excel(path,ticker)\n",
    "    df['date'] = pd.to_datetime(df['date'],format = '%Y%m')\n",
    "    df = df.set_index('date')\n",
    "    return df\n",
    "\n",
    "def getfama(path):\n",
    "    df = pd.read_csv(path)\n",
    "    df['date'] = pd.to_datetime(df['date'],format = '%Y%m')\n",
    "    df = df.set_index('date')\n",
    "    return df\n",
    "\n",
    "l = ['GM','MSFT','KO']\n",
    "regression_analysis = {}\n",
    "\n",
    "df_fama = getfama('Monthly_Fama.csv')\n",
    "\n",
    "for ticker in l:\n",
    "    df = getdf(\"Stocks.xlsx\",ticker)\n",
    "    intersection = df_fama.index.intersection(df.index)\n",
    "    df_stock = df.loc[intersection,:].copy()\n",
    "    df_fama_modified = df_fama.loc[intersection,:].copy()\n",
    "    df_stock['excess_ret'] = df_stock['ret'] - df_fama_modified['RF']\n",
    "    df_stock['excess_mkt'] = df_fama_modified['Mkt-RF']\n",
    "    result = sm.ols(formula=\"excess_ret ~ excess_mkt\",data = df_stock).fit()\n",
    "    regression_analysis[ticker] = []\n",
    "    regression_analysis[ticker].append(result.params.Intercept)\n",
    "    regression_analysis[ticker].append(result.params.excess_mkt)"
   ]
  },
  {
   "cell_type": "markdown",
   "id": "ed0d979a",
   "metadata": {},
   "source": [
    "## Summarisation of results"
   ]
  },
  {
   "cell_type": "code",
   "execution_count": 101,
   "id": "d60f67f3",
   "metadata": {
    "scrolled": false
   },
   "outputs": [
    {
     "data": {
      "text/html": [
       "<div>\n",
       "<style scoped>\n",
       "    .dataframe tbody tr th:only-of-type {\n",
       "        vertical-align: middle;\n",
       "    }\n",
       "\n",
       "    .dataframe tbody tr th {\n",
       "        vertical-align: top;\n",
       "    }\n",
       "\n",
       "    .dataframe thead th {\n",
       "        text-align: right;\n",
       "    }\n",
       "</style>\n",
       "<table border=\"1\" class=\"dataframe\">\n",
       "  <thead>\n",
       "    <tr style=\"text-align: right;\">\n",
       "      <th></th>\n",
       "      <th>Alpha</th>\n",
       "      <th>Beta</th>\n",
       "    </tr>\n",
       "  </thead>\n",
       "  <tbody>\n",
       "    <tr>\n",
       "      <th>GM</th>\n",
       "      <td>-0.051211</td>\n",
       "      <td>0.015640</td>\n",
       "    </tr>\n",
       "    <tr>\n",
       "      <th>MSFT</th>\n",
       "      <td>-0.227043</td>\n",
       "      <td>0.014091</td>\n",
       "    </tr>\n",
       "    <tr>\n",
       "      <th>KO</th>\n",
       "      <td>-0.357885</td>\n",
       "      <td>0.011900</td>\n",
       "    </tr>\n",
       "  </tbody>\n",
       "</table>\n",
       "</div>"
      ],
      "text/plain": [
       "         Alpha      Beta\n",
       "GM   -0.051211  0.015640\n",
       "MSFT -0.227043  0.014091\n",
       "KO   -0.357885  0.011900"
      ]
     },
     "execution_count": 101,
     "metadata": {},
     "output_type": "execute_result"
    }
   ],
   "source": [
    "pd.DataFrame.from_dict(regression_analysis, orient='index',columns = ['Alpha','Beta'])"
   ]
  },
  {
   "cell_type": "markdown",
   "id": "a337c23b",
   "metadata": {},
   "source": [
    "## Test for CAPM"
   ]
  },
  {
   "cell_type": "code",
   "execution_count": 102,
   "id": "4ef48f31",
   "metadata": {},
   "outputs": [
    {
     "data": {
      "text/plain": [
       "Text(0.5, 1.0, 'Average return vs Beta Plot')"
      ]
     },
     "execution_count": 102,
     "metadata": {},
     "output_type": "execute_result"
    },
    {
     "data": {
      "image/png": "[encoded data removed]",
      "text/plain": [
       "<Figure size 432x288 with 1 Axes>"
      ]
     },
     "metadata": {
      "needs_background": "light"
     },
     "output_type": "display_data"
    }
   ],
   "source": [
    "def getPortfolio(path):\n",
    "    df = pd.read_csv('Monthly_Portfolio_returns.csv')\n",
    "    df['date'] = pd.to_datetime(df['date'],format='%Y%m')\n",
    "    df = df.set_index('date')\n",
    "    df = df.drop(['Lo 20', 'Qnt 2', 'Qnt 3', 'Qnt 4', 'Hi 20'],axis = 1)\n",
    "    df = df.rename(columns = {\"Lo 10\":'dec_1',\"Dec-02\":'dec_2',\"Dec-03\":'dec_3',\"Dec-04\":'dec_4',\n",
    "                            \"Dec-05\":'dec_5',\"Dec-06\":'dec_6',\"Dec-07\":'dec_7',\"Dec-08\":'dec_8',\n",
    "                            \"Dec-09\":'dec_9',\"Hi 10\":'dec_10'})\n",
    "\n",
    "    df[df==-99.99] = np.nan\n",
    "    df[df==-999] = np.nan\n",
    "    return df\n",
    "\n",
    "def getbetas(df_portfolio):\n",
    "    beta_dict = {}\n",
    "    for col in df_portfolio:\n",
    "        if(col=='excess_mkt'):\n",
    "            continue\n",
    "        reg = sm.ols(formula = str(col) + '~ excess_mkt',data = df_portfolio).fit()\n",
    "        beta_dict[col] = reg.params.excess_mkt\n",
    "    return beta_dict \n",
    "\n",
    "df_portfolio = getPortfolio(\"Monthly_Portfolio_returns.csv\")\n",
    "df_fama_all = getfama('Monthly_Fama.csv').loc[df_portfolio.index,:]\n",
    "assert df_fama_all.shape[0] == df_portfolio.shape[0] \n",
    "df_portfolio['excess_mkt'] = df_fama_all['Mkt-RF']\n",
    "\n",
    "mean_monthly_returns = df_portfolio.mean(axis=0).to_dict()\n",
    "beta_dict = getbetas(df_portfolio)\n",
    "\n",
    "avg_market_premium = mean_monthly_returns['excess_mkt']\n",
    "\n",
    "l_betas = []\n",
    "l_mean_returns = []\n",
    "\n",
    "for decile in beta_dict:\n",
    "    l_betas.append(beta_dict[decile])\n",
    "    l_mean_returns.append(mean_monthly_returns[decile])\n",
    "\n",
    "l_expected_returns = [(avg_market_premium*x + avg_market_premium)  for x in l_betas]\n",
    "\n",
    "assert len(l_betas) == len(l_expected_returns)\n",
    "\n",
    "plt.scatter(l_betas,l_mean_returns)\n",
    "plt.plot(l_betas,l_expected_returns)\n",
    "plt.xlabel('Beta')\n",
    "plt.ylabel('Average returns')\n",
    "plt.title('Average return vs Beta Plot')"
   ]
  },
  {
   "cell_type": "code",
   "execution_count": 103,
   "id": "80e0b4a4",
   "metadata": {},
   "outputs": [
    {
     "data": {
      "text/plain": [
       "0.5633568406205924"
      ]
     },
     "execution_count": 103,
     "metadata": {},
     "output_type": "execute_result"
    }
   ],
   "source": [
    "avg_market_premium"
   ]
  },
  {
   "cell_type": "code",
   "execution_count": null,
   "id": "c82490e0",
   "metadata": {},
   "outputs": [],
   "source": []
  }
 ],
 "metadata": {
  "kernelspec": {
   "display_name": "Python 3 (ipykernel)",
   "language": "python",
   "name": "python3"
  },
  "language_info": {
   "codemirror_mode": {
    "name": "ipython",
    "version": 3
   },
   "file_extension": ".py",
   "mimetype": "text/x-python",
   "name": "python",
   "nbconvert_exporter": "python",
   "pygments_lexer": "ipython3",
   "version": "3.9.5"
  }
 },
 "nbformat": 4,
 "nbformat_minor": 5
}
